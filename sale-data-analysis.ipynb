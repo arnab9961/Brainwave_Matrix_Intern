{
 "cells": [
  {
   "cell_type": "code",
   "execution_count": 1,
   "id": "28c1c784",
   "metadata": {
    "_cell_guid": "b1076dfc-b9ad-4769-8c92-a6c4dae69d19",
    "_uuid": "8f2839f25d086af736a60e9eeb907d3b93b6e0e5",
    "execution": {
     "iopub.execute_input": "2024-06-24T17:49:45.991855Z",
     "iopub.status.busy": "2024-06-24T17:49:45.991455Z",
     "iopub.status.idle": "2024-06-24T17:49:47.876033Z",
     "shell.execute_reply": "2024-06-24T17:49:47.874998Z"
    },
    "papermill": {
     "duration": 1.893127,
     "end_time": "2024-06-24T17:49:47.878516",
     "exception": false,
     "start_time": "2024-06-24T17:49:45.985389",
     "status": "completed"
    },
    "tags": []
   },
   "outputs": [],
   "source": [
    "import numpy as np # linear algebra\n",
    "import pandas as pd # data processing, CSV file I/O (e.g. pd.read_csv)\n",
    "import matplotlib.pyplot as plt\n",
    "import seaborn as sns\n"
   ]
  },
  {
   "cell_type": "code",
   "execution_count": 2,
   "id": "172d82b4",
   "metadata": {
    "execution": {
     "iopub.execute_input": "2024-06-24T17:49:47.888768Z",
     "iopub.status.busy": "2024-06-24T17:49:47.888314Z",
     "iopub.status.idle": "2024-06-24T17:49:47.899349Z",
     "shell.execute_reply": "2024-06-24T17:49:47.898310Z"
    },
    "papermill": {
     "duration": 0.018226,
     "end_time": "2024-06-24T17:49:47.901343",
     "exception": false,
     "start_time": "2024-06-24T17:49:47.883117",
     "status": "completed"
    },
    "tags": []
   },
   "outputs": [
    {
     "name": "stdout",
     "output_type": "stream",
     "text": [
      "/kaggle/input/sales-data-analysis/Sales Data.csv\n"
     ]
    }
   ],
   "source": [
    "import os\n",
    "for dirname, _, filenames in os.walk('/kaggle/input'):\n",
    "    for filename in filenames:\n",
    "        print(os.path.join(dirname, filename))"
   ]
  },
  {
   "cell_type": "code",
   "execution_count": 3,
   "id": "6c310a90",
   "metadata": {
    "execution": {
     "iopub.execute_input": "2024-06-24T17:49:47.911271Z",
     "iopub.status.busy": "2024-06-24T17:49:47.910922Z",
     "iopub.status.idle": "2024-06-24T17:49:48.586772Z",
     "shell.execute_reply": "2024-06-24T17:49:48.585904Z"
    },
    "papermill": {
     "duration": 0.683676,
     "end_time": "2024-06-24T17:49:48.589289",
     "exception": false,
     "start_time": "2024-06-24T17:49:47.905613",
     "status": "completed"
    },
    "tags": []
   },
   "outputs": [],
   "source": [
    "df = pd.read_csv('/kaggle/input/sales-data-analysis/Sales Data.csv')"
   ]
  },
  {
   "cell_type": "code",
   "execution_count": 4,
   "id": "4969310b",
   "metadata": {
    "execution": {
     "iopub.execute_input": "2024-06-24T17:49:48.599946Z",
     "iopub.status.busy": "2024-06-24T17:49:48.599085Z",
     "iopub.status.idle": "2024-06-24T17:49:48.625338Z",
     "shell.execute_reply": "2024-06-24T17:49:48.624366Z"
    },
    "papermill": {
     "duration": 0.033873,
     "end_time": "2024-06-24T17:49:48.627547",
     "exception": false,
     "start_time": "2024-06-24T17:49:48.593674",
     "status": "completed"
    },
    "tags": []
   },
   "outputs": [
    {
     "data": {
      "text/html": [
       "<div>\n",
       "<style scoped>\n",
       "    .dataframe tbody tr th:only-of-type {\n",
       "        vertical-align: middle;\n",
       "    }\n",
       "\n",
       "    .dataframe tbody tr th {\n",
       "        vertical-align: top;\n",
       "    }\n",
       "\n",
       "    .dataframe thead th {\n",
       "        text-align: right;\n",
       "    }\n",
       "</style>\n",
       "<table border=\"1\" class=\"dataframe\">\n",
       "  <thead>\n",
       "    <tr style=\"text-align: right;\">\n",
       "      <th></th>\n",
       "      <th>Unnamed: 0</th>\n",
       "      <th>Order ID</th>\n",
       "      <th>Product</th>\n",
       "      <th>Quantity Ordered</th>\n",
       "      <th>Price Each</th>\n",
       "      <th>Order Date</th>\n",
       "      <th>Purchase Address</th>\n",
       "      <th>Month</th>\n",
       "      <th>Sales</th>\n",
       "      <th>City</th>\n",
       "      <th>Hour</th>\n",
       "    </tr>\n",
       "  </thead>\n",
       "  <tbody>\n",
       "    <tr>\n",
       "      <th>0</th>\n",
       "      <td>0</td>\n",
       "      <td>295665</td>\n",
       "      <td>Macbook Pro Laptop</td>\n",
       "      <td>1</td>\n",
       "      <td>1700.00</td>\n",
       "      <td>2019-12-30 00:01:00</td>\n",
       "      <td>136 Church St, New York City, NY 10001</td>\n",
       "      <td>12</td>\n",
       "      <td>1700.00</td>\n",
       "      <td>New York City</td>\n",
       "      <td>0</td>\n",
       "    </tr>\n",
       "    <tr>\n",
       "      <th>1</th>\n",
       "      <td>1</td>\n",
       "      <td>295666</td>\n",
       "      <td>LG Washing Machine</td>\n",
       "      <td>1</td>\n",
       "      <td>600.00</td>\n",
       "      <td>2019-12-29 07:03:00</td>\n",
       "      <td>562 2nd St, New York City, NY 10001</td>\n",
       "      <td>12</td>\n",
       "      <td>600.00</td>\n",
       "      <td>New York City</td>\n",
       "      <td>7</td>\n",
       "    </tr>\n",
       "    <tr>\n",
       "      <th>2</th>\n",
       "      <td>2</td>\n",
       "      <td>295667</td>\n",
       "      <td>USB-C Charging Cable</td>\n",
       "      <td>1</td>\n",
       "      <td>11.95</td>\n",
       "      <td>2019-12-12 18:21:00</td>\n",
       "      <td>277 Main St, New York City, NY 10001</td>\n",
       "      <td>12</td>\n",
       "      <td>11.95</td>\n",
       "      <td>New York City</td>\n",
       "      <td>18</td>\n",
       "    </tr>\n",
       "    <tr>\n",
       "      <th>3</th>\n",
       "      <td>3</td>\n",
       "      <td>295668</td>\n",
       "      <td>27in FHD Monitor</td>\n",
       "      <td>1</td>\n",
       "      <td>149.99</td>\n",
       "      <td>2019-12-22 15:13:00</td>\n",
       "      <td>410 6th St, San Francisco, CA 94016</td>\n",
       "      <td>12</td>\n",
       "      <td>149.99</td>\n",
       "      <td>San Francisco</td>\n",
       "      <td>15</td>\n",
       "    </tr>\n",
       "    <tr>\n",
       "      <th>4</th>\n",
       "      <td>4</td>\n",
       "      <td>295669</td>\n",
       "      <td>USB-C Charging Cable</td>\n",
       "      <td>1</td>\n",
       "      <td>11.95</td>\n",
       "      <td>2019-12-18 12:38:00</td>\n",
       "      <td>43 Hill St, Atlanta, GA 30301</td>\n",
       "      <td>12</td>\n",
       "      <td>11.95</td>\n",
       "      <td>Atlanta</td>\n",
       "      <td>12</td>\n",
       "    </tr>\n",
       "    <tr>\n",
       "      <th>5</th>\n",
       "      <td>5</td>\n",
       "      <td>295670</td>\n",
       "      <td>AA Batteries (4-pack)</td>\n",
       "      <td>1</td>\n",
       "      <td>3.84</td>\n",
       "      <td>2019-12-31 22:58:00</td>\n",
       "      <td>200 Jefferson St, New York City, NY 10001</td>\n",
       "      <td>12</td>\n",
       "      <td>3.84</td>\n",
       "      <td>New York City</td>\n",
       "      <td>22</td>\n",
       "    </tr>\n",
       "    <tr>\n",
       "      <th>6</th>\n",
       "      <td>6</td>\n",
       "      <td>295671</td>\n",
       "      <td>USB-C Charging Cable</td>\n",
       "      <td>1</td>\n",
       "      <td>11.95</td>\n",
       "      <td>2019-12-16 15:10:00</td>\n",
       "      <td>928 12th St, Portland, OR 97035</td>\n",
       "      <td>12</td>\n",
       "      <td>11.95</td>\n",
       "      <td>Portland</td>\n",
       "      <td>15</td>\n",
       "    </tr>\n",
       "    <tr>\n",
       "      <th>7</th>\n",
       "      <td>7</td>\n",
       "      <td>295672</td>\n",
       "      <td>USB-C Charging Cable</td>\n",
       "      <td>2</td>\n",
       "      <td>11.95</td>\n",
       "      <td>2019-12-13 09:29:00</td>\n",
       "      <td>813 Hickory St, Dallas, TX 75001</td>\n",
       "      <td>12</td>\n",
       "      <td>23.90</td>\n",
       "      <td>Dallas</td>\n",
       "      <td>9</td>\n",
       "    </tr>\n",
       "    <tr>\n",
       "      <th>8</th>\n",
       "      <td>8</td>\n",
       "      <td>295673</td>\n",
       "      <td>Bose SoundSport Headphones</td>\n",
       "      <td>1</td>\n",
       "      <td>99.99</td>\n",
       "      <td>2019-12-15 23:26:00</td>\n",
       "      <td>718 Wilson St, Dallas, TX 75001</td>\n",
       "      <td>12</td>\n",
       "      <td>99.99</td>\n",
       "      <td>Dallas</td>\n",
       "      <td>23</td>\n",
       "    </tr>\n",
       "    <tr>\n",
       "      <th>9</th>\n",
       "      <td>9</td>\n",
       "      <td>295674</td>\n",
       "      <td>AAA Batteries (4-pack)</td>\n",
       "      <td>4</td>\n",
       "      <td>2.99</td>\n",
       "      <td>2019-12-28 11:51:00</td>\n",
       "      <td>77 7th St, Dallas, TX 75001</td>\n",
       "      <td>12</td>\n",
       "      <td>11.96</td>\n",
       "      <td>Dallas</td>\n",
       "      <td>11</td>\n",
       "    </tr>\n",
       "  </tbody>\n",
       "</table>\n",
       "</div>"
      ],
      "text/plain": [
       "   Unnamed: 0  Order ID                     Product  Quantity Ordered  \\\n",
       "0           0    295665          Macbook Pro Laptop                 1   \n",
       "1           1    295666          LG Washing Machine                 1   \n",
       "2           2    295667        USB-C Charging Cable                 1   \n",
       "3           3    295668            27in FHD Monitor                 1   \n",
       "4           4    295669        USB-C Charging Cable                 1   \n",
       "5           5    295670       AA Batteries (4-pack)                 1   \n",
       "6           6    295671        USB-C Charging Cable                 1   \n",
       "7           7    295672        USB-C Charging Cable                 2   \n",
       "8           8    295673  Bose SoundSport Headphones                 1   \n",
       "9           9    295674      AAA Batteries (4-pack)                 4   \n",
       "\n",
       "   Price Each           Order Date                           Purchase Address  \\\n",
       "0     1700.00  2019-12-30 00:01:00     136 Church St, New York City, NY 10001   \n",
       "1      600.00  2019-12-29 07:03:00        562 2nd St, New York City, NY 10001   \n",
       "2       11.95  2019-12-12 18:21:00       277 Main St, New York City, NY 10001   \n",
       "3      149.99  2019-12-22 15:13:00        410 6th St, San Francisco, CA 94016   \n",
       "4       11.95  2019-12-18 12:38:00              43 Hill St, Atlanta, GA 30301   \n",
       "5        3.84  2019-12-31 22:58:00  200 Jefferson St, New York City, NY 10001   \n",
       "6       11.95  2019-12-16 15:10:00            928 12th St, Portland, OR 97035   \n",
       "7       11.95  2019-12-13 09:29:00           813 Hickory St, Dallas, TX 75001   \n",
       "8       99.99  2019-12-15 23:26:00            718 Wilson St, Dallas, TX 75001   \n",
       "9        2.99  2019-12-28 11:51:00                77 7th St, Dallas, TX 75001   \n",
       "\n",
       "   Month    Sales            City  Hour  \n",
       "0     12  1700.00   New York City     0  \n",
       "1     12   600.00   New York City     7  \n",
       "2     12    11.95   New York City    18  \n",
       "3     12   149.99   San Francisco    15  \n",
       "4     12    11.95         Atlanta    12  \n",
       "5     12     3.84   New York City    22  \n",
       "6     12    11.95        Portland    15  \n",
       "7     12    23.90          Dallas     9  \n",
       "8     12    99.99          Dallas    23  \n",
       "9     12    11.96          Dallas    11  "
      ]
     },
     "execution_count": 4,
     "metadata": {},
     "output_type": "execute_result"
    }
   ],
   "source": [
    "df.head(10)"
   ]
  },
  {
   "cell_type": "code",
   "execution_count": 5,
   "id": "642fbc1e",
   "metadata": {
    "execution": {
     "iopub.execute_input": "2024-06-24T17:49:48.638761Z",
     "iopub.status.busy": "2024-06-24T17:49:48.638399Z",
     "iopub.status.idle": "2024-06-24T17:49:48.696830Z",
     "shell.execute_reply": "2024-06-24T17:49:48.695653Z"
    },
    "papermill": {
     "duration": 0.067336,
     "end_time": "2024-06-24T17:49:48.699529",
     "exception": false,
     "start_time": "2024-06-24T17:49:48.632193",
     "status": "completed"
    },
    "tags": []
   },
   "outputs": [
    {
     "name": "stdout",
     "output_type": "stream",
     "text": [
      "<class 'pandas.core.frame.DataFrame'>\n",
      "RangeIndex: 185950 entries, 0 to 185949\n",
      "Data columns (total 11 columns):\n",
      " #   Column            Non-Null Count   Dtype  \n",
      "---  ------            --------------   -----  \n",
      " 0   Unnamed: 0        185950 non-null  int64  \n",
      " 1   Order ID          185950 non-null  int64  \n",
      " 2   Product           185950 non-null  object \n",
      " 3   Quantity Ordered  185950 non-null  int64  \n",
      " 4   Price Each        185950 non-null  float64\n",
      " 5   Order Date        185950 non-null  object \n",
      " 6   Purchase Address  185950 non-null  object \n",
      " 7   Month             185950 non-null  int64  \n",
      " 8   Sales             185950 non-null  float64\n",
      " 9   City              185950 non-null  object \n",
      " 10  Hour              185950 non-null  int64  \n",
      "dtypes: float64(2), int64(5), object(4)\n",
      "memory usage: 15.6+ MB\n"
     ]
    }
   ],
   "source": [
    "df.info()"
   ]
  },
  {
   "cell_type": "code",
   "execution_count": 6,
   "id": "96b21686",
   "metadata": {
    "execution": {
     "iopub.execute_input": "2024-06-24T17:49:48.711428Z",
     "iopub.status.busy": "2024-06-24T17:49:48.710485Z",
     "iopub.status.idle": "2024-06-24T17:49:48.755249Z",
     "shell.execute_reply": "2024-06-24T17:49:48.754121Z"
    },
    "papermill": {
     "duration": 0.053251,
     "end_time": "2024-06-24T17:49:48.757677",
     "exception": false,
     "start_time": "2024-06-24T17:49:48.704426",
     "status": "completed"
    },
    "tags": []
   },
   "outputs": [
    {
     "data": {
      "text/plain": [
       "Unnamed: 0          0\n",
       "Order ID            0\n",
       "Product             0\n",
       "Quantity Ordered    0\n",
       "Price Each          0\n",
       "Order Date          0\n",
       "Purchase Address    0\n",
       "Month               0\n",
       "Sales               0\n",
       "City                0\n",
       "Hour                0\n",
       "dtype: int64"
      ]
     },
     "execution_count": 6,
     "metadata": {},
     "output_type": "execute_result"
    }
   ],
   "source": [
    "df.isnull().sum()"
   ]
  },
  {
   "cell_type": "code",
   "execution_count": 7,
   "id": "f10b32ec",
   "metadata": {
    "execution": {
     "iopub.execute_input": "2024-06-24T17:49:48.769259Z",
     "iopub.status.busy": "2024-06-24T17:49:48.768915Z",
     "iopub.status.idle": "2024-06-24T17:49:48.775559Z",
     "shell.execute_reply": "2024-06-24T17:49:48.774584Z"
    },
    "papermill": {
     "duration": 0.014965,
     "end_time": "2024-06-24T17:49:48.777626",
     "exception": false,
     "start_time": "2024-06-24T17:49:48.762661",
     "status": "completed"
    },
    "tags": []
   },
   "outputs": [
    {
     "data": {
      "text/plain": [
       "Index(['Unnamed: 0', 'Order ID', 'Product', 'Quantity Ordered', 'Price Each',\n",
       "       'Order Date', 'Purchase Address', 'Month', 'Sales', 'City', 'Hour'],\n",
       "      dtype='object')"
      ]
     },
     "execution_count": 7,
     "metadata": {},
     "output_type": "execute_result"
    }
   ],
   "source": [
    "df.columns"
   ]
  },
  {
   "cell_type": "code",
   "execution_count": 8,
   "id": "380b2822",
   "metadata": {
    "execution": {
     "iopub.execute_input": "2024-06-24T17:49:48.789446Z",
     "iopub.status.busy": "2024-06-24T17:49:48.789109Z",
     "iopub.status.idle": "2024-06-24T17:49:48.833721Z",
     "shell.execute_reply": "2024-06-24T17:49:48.832797Z"
    },
    "papermill": {
     "duration": 0.053123,
     "end_time": "2024-06-24T17:49:48.835842",
     "exception": false,
     "start_time": "2024-06-24T17:49:48.782719",
     "status": "completed"
    },
    "tags": []
   },
   "outputs": [
    {
     "data": {
      "text/plain": [
       "Unnamed: 0          185950\n",
       "Order ID            185950\n",
       "Product             185950\n",
       "Quantity Ordered    185950\n",
       "Price Each          185950\n",
       "Order Date          185950\n",
       "Purchase Address    185950\n",
       "Month               185950\n",
       "Sales               185950\n",
       "City                185950\n",
       "Hour                185950\n",
       "dtype: int64"
      ]
     },
     "execution_count": 8,
     "metadata": {},
     "output_type": "execute_result"
    }
   ],
   "source": [
    "df.count()"
   ]
  },
  {
   "cell_type": "code",
   "execution_count": 9,
   "id": "a53c10bf",
   "metadata": {
    "execution": {
     "iopub.execute_input": "2024-06-24T17:49:48.847691Z",
     "iopub.status.busy": "2024-06-24T17:49:48.847338Z",
     "iopub.status.idle": "2024-06-24T17:49:48.864843Z",
     "shell.execute_reply": "2024-06-24T17:49:48.863931Z"
    },
    "papermill": {
     "duration": 0.026246,
     "end_time": "2024-06-24T17:49:48.867268",
     "exception": false,
     "start_time": "2024-06-24T17:49:48.841022",
     "status": "completed"
    },
    "tags": []
   },
   "outputs": [],
   "source": [
    "df.drop(['Unnamed: 0'], axis = 1,inplace = True)"
   ]
  },
  {
   "cell_type": "code",
   "execution_count": 10,
   "id": "2e621708",
   "metadata": {
    "execution": {
     "iopub.execute_input": "2024-06-24T17:49:48.879542Z",
     "iopub.status.busy": "2024-06-24T17:49:48.878861Z",
     "iopub.status.idle": "2024-06-24T17:49:48.892790Z",
     "shell.execute_reply": "2024-06-24T17:49:48.891780Z"
    },
    "papermill": {
     "duration": 0.022562,
     "end_time": "2024-06-24T17:49:48.895067",
     "exception": false,
     "start_time": "2024-06-24T17:49:48.872505",
     "status": "completed"
    },
    "tags": []
   },
   "outputs": [
    {
     "data": {
      "text/html": [
       "<div>\n",
       "<style scoped>\n",
       "    .dataframe tbody tr th:only-of-type {\n",
       "        vertical-align: middle;\n",
       "    }\n",
       "\n",
       "    .dataframe tbody tr th {\n",
       "        vertical-align: top;\n",
       "    }\n",
       "\n",
       "    .dataframe thead th {\n",
       "        text-align: right;\n",
       "    }\n",
       "</style>\n",
       "<table border=\"1\" class=\"dataframe\">\n",
       "  <thead>\n",
       "    <tr style=\"text-align: right;\">\n",
       "      <th></th>\n",
       "      <th>Order ID</th>\n",
       "      <th>Product</th>\n",
       "      <th>Quantity Ordered</th>\n",
       "      <th>Price Each</th>\n",
       "      <th>Order Date</th>\n",
       "      <th>Purchase Address</th>\n",
       "      <th>Month</th>\n",
       "      <th>Sales</th>\n",
       "      <th>City</th>\n",
       "      <th>Hour</th>\n",
       "    </tr>\n",
       "  </thead>\n",
       "  <tbody>\n",
       "    <tr>\n",
       "      <th>0</th>\n",
       "      <td>295665</td>\n",
       "      <td>Macbook Pro Laptop</td>\n",
       "      <td>1</td>\n",
       "      <td>1700.00</td>\n",
       "      <td>2019-12-30 00:01:00</td>\n",
       "      <td>136 Church St, New York City, NY 10001</td>\n",
       "      <td>12</td>\n",
       "      <td>1700.00</td>\n",
       "      <td>New York City</td>\n",
       "      <td>0</td>\n",
       "    </tr>\n",
       "    <tr>\n",
       "      <th>1</th>\n",
       "      <td>295666</td>\n",
       "      <td>LG Washing Machine</td>\n",
       "      <td>1</td>\n",
       "      <td>600.00</td>\n",
       "      <td>2019-12-29 07:03:00</td>\n",
       "      <td>562 2nd St, New York City, NY 10001</td>\n",
       "      <td>12</td>\n",
       "      <td>600.00</td>\n",
       "      <td>New York City</td>\n",
       "      <td>7</td>\n",
       "    </tr>\n",
       "    <tr>\n",
       "      <th>2</th>\n",
       "      <td>295667</td>\n",
       "      <td>USB-C Charging Cable</td>\n",
       "      <td>1</td>\n",
       "      <td>11.95</td>\n",
       "      <td>2019-12-12 18:21:00</td>\n",
       "      <td>277 Main St, New York City, NY 10001</td>\n",
       "      <td>12</td>\n",
       "      <td>11.95</td>\n",
       "      <td>New York City</td>\n",
       "      <td>18</td>\n",
       "    </tr>\n",
       "    <tr>\n",
       "      <th>3</th>\n",
       "      <td>295668</td>\n",
       "      <td>27in FHD Monitor</td>\n",
       "      <td>1</td>\n",
       "      <td>149.99</td>\n",
       "      <td>2019-12-22 15:13:00</td>\n",
       "      <td>410 6th St, San Francisco, CA 94016</td>\n",
       "      <td>12</td>\n",
       "      <td>149.99</td>\n",
       "      <td>San Francisco</td>\n",
       "      <td>15</td>\n",
       "    </tr>\n",
       "    <tr>\n",
       "      <th>4</th>\n",
       "      <td>295669</td>\n",
       "      <td>USB-C Charging Cable</td>\n",
       "      <td>1</td>\n",
       "      <td>11.95</td>\n",
       "      <td>2019-12-18 12:38:00</td>\n",
       "      <td>43 Hill St, Atlanta, GA 30301</td>\n",
       "      <td>12</td>\n",
       "      <td>11.95</td>\n",
       "      <td>Atlanta</td>\n",
       "      <td>12</td>\n",
       "    </tr>\n",
       "  </tbody>\n",
       "</table>\n",
       "</div>"
      ],
      "text/plain": [
       "   Order ID               Product  Quantity Ordered  Price Each  \\\n",
       "0    295665    Macbook Pro Laptop                 1     1700.00   \n",
       "1    295666    LG Washing Machine                 1      600.00   \n",
       "2    295667  USB-C Charging Cable                 1       11.95   \n",
       "3    295668      27in FHD Monitor                 1      149.99   \n",
       "4    295669  USB-C Charging Cable                 1       11.95   \n",
       "\n",
       "            Order Date                        Purchase Address  Month  \\\n",
       "0  2019-12-30 00:01:00  136 Church St, New York City, NY 10001     12   \n",
       "1  2019-12-29 07:03:00     562 2nd St, New York City, NY 10001     12   \n",
       "2  2019-12-12 18:21:00    277 Main St, New York City, NY 10001     12   \n",
       "3  2019-12-22 15:13:00     410 6th St, San Francisco, CA 94016     12   \n",
       "4  2019-12-18 12:38:00           43 Hill St, Atlanta, GA 30301     12   \n",
       "\n",
       "     Sales            City  Hour  \n",
       "0  1700.00   New York City     0  \n",
       "1   600.00   New York City     7  \n",
       "2    11.95   New York City    18  \n",
       "3   149.99   San Francisco    15  \n",
       "4    11.95         Atlanta    12  "
      ]
     },
     "execution_count": 10,
     "metadata": {},
     "output_type": "execute_result"
    }
   ],
   "source": [
    "df.head()"
   ]
  },
  {
   "cell_type": "code",
   "execution_count": 11,
   "id": "4e59d493",
   "metadata": {
    "execution": {
     "iopub.execute_input": "2024-06-24T17:49:48.907883Z",
     "iopub.status.busy": "2024-06-24T17:49:48.907172Z",
     "iopub.status.idle": "2024-06-24T17:49:48.976579Z",
     "shell.execute_reply": "2024-06-24T17:49:48.975589Z"
    },
    "papermill": {
     "duration": 0.078287,
     "end_time": "2024-06-24T17:49:48.978729",
     "exception": false,
     "start_time": "2024-06-24T17:49:48.900442",
     "status": "completed"
    },
    "tags": []
   },
   "outputs": [
    {
     "data": {
      "text/plain": [
       "0        2019-12-30 00:01:00\n",
       "1        2019-12-29 07:03:00\n",
       "2        2019-12-12 18:21:00\n",
       "3        2019-12-22 15:13:00\n",
       "4        2019-12-18 12:38:00\n",
       "                 ...        \n",
       "185945   2019-06-07 19:02:00\n",
       "185946   2019-06-01 19:29:00\n",
       "185947   2019-06-22 18:57:00\n",
       "185948   2019-06-26 18:35:00\n",
       "185949   2019-06-25 14:33:00\n",
       "Name: Order Date, Length: 185950, dtype: datetime64[ns]"
      ]
     },
     "execution_count": 11,
     "metadata": {},
     "output_type": "execute_result"
    }
   ],
   "source": [
    "df['Order Date'] = pd.to_datetime(df['Order Date'])\n",
    "df['Order Date']"
   ]
  },
  {
   "cell_type": "code",
   "execution_count": 12,
   "id": "54fdaa93",
   "metadata": {
    "execution": {
     "iopub.execute_input": "2024-06-24T17:49:48.991124Z",
     "iopub.status.busy": "2024-06-24T17:49:48.990758Z",
     "iopub.status.idle": "2024-06-24T17:49:49.012268Z",
     "shell.execute_reply": "2024-06-24T17:49:49.011123Z"
    },
    "papermill": {
     "duration": 0.030245,
     "end_time": "2024-06-24T17:49:49.014479",
     "exception": false,
     "start_time": "2024-06-24T17:49:48.984234",
     "status": "completed"
    },
    "tags": []
   },
   "outputs": [
    {
     "data": {
      "text/plain": [
       "array(['Macbook Pro Laptop', 'LG Washing Machine', 'USB-C Charging Cable',\n",
       "       '27in FHD Monitor', 'AA Batteries (4-pack)',\n",
       "       'Bose SoundSport Headphones', 'AAA Batteries (4-pack)',\n",
       "       'ThinkPad Laptop', 'Lightning Charging Cable', 'Google Phone',\n",
       "       'Wired Headphones', 'Apple Airpods Headphones', 'Vareebadd Phone',\n",
       "       'iPhone', '20in Monitor', '34in Ultrawide Monitor',\n",
       "       'Flatscreen TV', '27in 4K Gaming Monitor', 'LG Dryer'],\n",
       "      dtype=object)"
      ]
     },
     "execution_count": 12,
     "metadata": {},
     "output_type": "execute_result"
    }
   ],
   "source": [
    "df['Product'].unique()"
   ]
  },
  {
   "cell_type": "code",
   "execution_count": 13,
   "id": "822aa893",
   "metadata": {
    "execution": {
     "iopub.execute_input": "2024-06-24T17:49:49.027295Z",
     "iopub.status.busy": "2024-06-24T17:49:49.026948Z",
     "iopub.status.idle": "2024-06-24T17:49:49.540963Z",
     "shell.execute_reply": "2024-06-24T17:49:49.539870Z"
    },
    "papermill": {
     "duration": 0.523276,
     "end_time": "2024-06-24T17:49:49.543494",
     "exception": false,
     "start_time": "2024-06-24T17:49:49.020218",
     "status": "completed"
    },
    "tags": []
   },
   "outputs": [
    {
     "data": {
      "text/plain": [
       "<Axes: title={'center': 'Quantity ordered per product'}, xlabel='Product'>"
      ]
     },
     "execution_count": 13,
     "metadata": {},
     "output_type": "execute_result"
    },
    {
     "data": {
      "image/png": "[encoded data removed]",
      "text/plain": [
       "<Figure size 400x500 with 1 Axes>"
      ]
     },
     "metadata": {},
     "output_type": "display_data"
    }
   ],
   "source": [
    "df.groupby('Product')['Quantity Ordered'].sum().plot.bar(title = 'Quantity ordered per product',figsize =(4,5))"
   ]
  },
  {
   "cell_type": "code",
   "execution_count": 14,
   "id": "8b3548d6",
   "metadata": {
    "execution": {
     "iopub.execute_input": "2024-06-24T17:49:49.558302Z",
     "iopub.status.busy": "2024-06-24T17:49:49.557936Z",
     "iopub.status.idle": "2024-06-24T17:49:49.841885Z",
     "shell.execute_reply": "2024-06-24T17:49:49.840898Z"
    },
    "papermill": {
     "duration": 0.293986,
     "end_time": "2024-06-24T17:49:49.844223",
     "exception": false,
     "start_time": "2024-06-24T17:49:49.550237",
     "status": "completed"
    },
    "tags": []
   },
   "outputs": [
    {
     "data": {
      "text/plain": [
       "<Axes: title={'center': ' month wise sales'}, xlabel='Month'>"
      ]
     },
     "execution_count": 14,
     "metadata": {},
     "output_type": "execute_result"
    },
    {
     "data": {
      "image/png": "[encoded data removed]",
      "text/plain": [
       "<Figure size 400x500 with 1 Axes>"
      ]
     },
     "metadata": {},
     "output_type": "display_data"
    }
   ],
   "source": [
    "df.groupby('Month')['Sales'].sum().plot.bar(title = ' month wise sales',figsize = (4,5))"
   ]
  },
  {
   "cell_type": "code",
   "execution_count": 15,
   "id": "1a901a62",
   "metadata": {
    "execution": {
     "iopub.execute_input": "2024-06-24T17:49:49.859751Z",
     "iopub.status.busy": "2024-06-24T17:49:49.859392Z",
     "iopub.status.idle": "2024-06-24T17:49:49.885321Z",
     "shell.execute_reply": "2024-06-24T17:49:49.884320Z"
    },
    "papermill": {
     "duration": 0.036224,
     "end_time": "2024-06-24T17:49:49.887519",
     "exception": false,
     "start_time": "2024-06-24T17:49:49.851295",
     "status": "completed"
    },
    "tags": []
   },
   "outputs": [
    {
     "data": {
      "text/plain": [
       "City\n",
       "San Francisco    8262203.91\n",
       "Los Angeles      5452570.80\n",
       "New York City    4664317.43\n",
       "Boston           3661642.01\n",
       "Atlanta          2795498.58\n",
       "Name: Sales, dtype: float64"
      ]
     },
     "execution_count": 15,
     "metadata": {},
     "output_type": "execute_result"
    }
   ],
   "source": [
    "city_sales = df.groupby('City')['Sales'].sum().nlargest(5)\n",
    "city_sales"
   ]
  },
  {
   "cell_type": "code",
   "execution_count": 16,
   "id": "3de53599",
   "metadata": {
    "execution": {
     "iopub.execute_input": "2024-06-24T17:49:49.903473Z",
     "iopub.status.busy": "2024-06-24T17:49:49.903125Z",
     "iopub.status.idle": "2024-06-24T17:49:50.154223Z",
     "shell.execute_reply": "2024-06-24T17:49:50.153189Z"
    },
    "papermill": {
     "duration": 0.26142,
     "end_time": "2024-06-24T17:49:50.156439",
     "exception": false,
     "start_time": "2024-06-24T17:49:49.895019",
     "status": "completed"
    },
    "tags": []
   },
   "outputs": [
    {
     "data": {
      "image/png": "[encoded data removed]",
      "text/plain": [
       "<Figure size 640x480 with 1 Axes>"
      ]
     },
     "metadata": {},
     "output_type": "display_data"
    }
   ],
   "source": [
    "sns.barplot(x = city_sales.index , y = city_sales).set(title = 'top 5 city with most sales')\n",
    "plt.show()"
   ]
  }
 ],
 "metadata": {
  "kaggle": {
   "accelerator": "none",
   "dataSources": [
    {
     "datasetId": 1525710,
     "sourceId": 2518637,
     "sourceType": "datasetVersion"
    }
   ],
   "dockerImageVersionId": 30732,
   "isGpuEnabled": false,
   "isInternetEnabled": true,
   "language": "python",
   "sourceType": "notebook"
  },
  "kernelspec": {
   "display_name": "Python 3",
   "language": "python",
   "name": "python3"
  },
  "language_info": {
   "codemirror_mode": {
    "name": "ipython",
    "version": 3
   },
   "file_extension": ".py",
   "mimetype": "text/x-python",
   "name": "python",
   "nbconvert_exporter": "python",
   "pygments_lexer": "ipython3",
   "version": "3.10.13"
  },
  "papermill": {
   "default_parameters": {},
   "duration": 7.265975,
   "end_time": "2024-06-24T17:49:50.683661",
   "environment_variables": {},
   "exception": null,
   "input_path": "__notebook__.ipynb",
   "output_path": "__notebook__.ipynb",
   "parameters": {},
   "start_time": "2024-06-24T17:49:43.417686",
   "version": "2.5.0"
  }
 },
 "nbformat": 4,
 "nbformat_minor": 5
}
